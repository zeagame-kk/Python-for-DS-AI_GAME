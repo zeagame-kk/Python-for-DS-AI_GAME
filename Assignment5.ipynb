{
 "cells": [
  {
   "cell_type": "markdown",
   "metadata": {},
   "source": [
    "## === Task ==="
   ]
  },
  {
   "cell_type": "markdown",
   "metadata": {},
   "source": [
    "1) Learn about TFidVectorizer and replace CountVectorizer with TFIDVectorizer (Explanation Provided in the Lecture) \n",
    "\n",
    "2) Put Multinomial Naive Classification into a class that can transform the data, fit the model and do prediction. \n",
    "- In the class, allow users to choose whether to use CountVectorizer or TFIDVectorizer to transform the data."
   ]
  },
  {
   "cell_type": "code",
   "execution_count": 1,
   "metadata": {},
   "outputs": [],
   "source": [
    "import numpy as np\n",
    "import matplotlib.pyplot as plt\n",
    "from sklearn.feature_extraction.text import CountVectorizer, TfidfVectorizer"
   ]
  },
  {
   "cell_type": "code",
   "execution_count": 13,
   "metadata": {},
   "outputs": [],
   "source": [
    "class MultinomialNB():\n",
    "    def __init__(self,):\n",
    "        pass\n",
    "    \n",
    "    def data_transform(self, train_data, test_data, method):\n",
    "        \n",
    "        #-----CountVectorizer method!!!\n",
    "        if method == 'CountVectorizer':\n",
    "            vectorizer = CountVectorizer()\n",
    "            X_train = vectorizer.fit_transform(train.data)\n",
    "            X_test = vectorizer.transform(test.data)\n",
    "            X_test = X_test.toarray()  #vectorizer gives us a sparse matrix; convert back to dense matrix\n",
    "            return X_train, X_test\n",
    "        \n",
    "        #-----TFidVectorizer method!!!\n",
    "        elif method == 'TfidfVectorizer':\n",
    "            vectorizer = TfidfVectorizer()\n",
    "            X_train = vectorizer.fit_transform(train.data)\n",
    "            X_test = vectorizer.transform(test.data)\n",
    "            X_test = X_test.toarray()  #vectorizer gives us a sparse matrix; convert back to dense matrix\n",
    "            return X_train, X_test\n",
    "        \n",
    "        else:\n",
    "            raise ValueError(\"Please select one of the following method: 'CountVectorizer' or 'TfidfVectorizer'.\") \n",
    "        \n",
    "    def likelihood(self, X_class, laplace=1):\n",
    "        return ((X_class.sum(axis=0)) + laplace) / (np.sum(X_class.sum(axis=0) + laplace))\n",
    "    \n",
    "    def prior(self, X_class):\n",
    "        return X_class.shape[0] / self.m\n",
    "    \n",
    "    def fit(self, X_train, y_train):\n",
    "        self.m, self.n = X_train.shape\n",
    "        self.classes = np.unique(y_train)        #<---list of class\n",
    "        self.k = len(self.classes)                    #<---number of class\n",
    "    \n",
    "        self.priors = np.zeros(self.k)                #<---prior for each classes\n",
    "        self.likelihoods = np.zeros((self.k, self.n)) #<---likehood for each class of each feature\n",
    "    \n",
    "        for idx, label in enumerate(self.classes):\n",
    "            X_train_c = X_train[y_train==label]\n",
    "            self.priors[idx] = self.prior(X_train_c)\n",
    "            self.likelihoods[idx, :] = self.likelihood(X_train_c)\n",
    "    \n",
    "    def predict(self, X_test):\n",
    "        yhat = np.log(self.priors) + X_test @ np.log(self.likelihoods.T)\n",
    "        return np.argmax(yhat, axis = 1 )\n",
    "    "
   ]
  },
  {
   "cell_type": "code",
   "execution_count": 3,
   "metadata": {},
   "outputs": [
    {
     "data": {
      "text/plain": [
       "['alt.atheism',\n",
       " 'comp.graphics',\n",
       " 'comp.os.ms-windows.misc',\n",
       " 'comp.sys.ibm.pc.hardware',\n",
       " 'comp.sys.mac.hardware',\n",
       " 'comp.windows.x',\n",
       " 'misc.forsale',\n",
       " 'rec.autos',\n",
       " 'rec.motorcycles',\n",
       " 'rec.sport.baseball',\n",
       " 'rec.sport.hockey',\n",
       " 'sci.crypt',\n",
       " 'sci.electronics',\n",
       " 'sci.med',\n",
       " 'sci.space',\n",
       " 'soc.religion.christian',\n",
       " 'talk.politics.guns',\n",
       " 'talk.politics.mideast',\n",
       " 'talk.politics.misc',\n",
       " 'talk.religion.misc']"
      ]
     },
     "execution_count": 3,
     "metadata": {},
     "output_type": "execute_result"
    }
   ],
   "source": [
    "from sklearn.datasets import fetch_20newsgroups\n",
    "\n",
    "data = fetch_20newsgroups()\n",
    "data.target_names"
   ]
  },
  {
   "cell_type": "code",
   "execution_count": 4,
   "metadata": {},
   "outputs": [],
   "source": [
    "categories = ['talk.religion.misc', 'soc.religion.christian',\n",
    "              'sci.space', 'comp.graphics']\n",
    "train = fetch_20newsgroups(subset='train', categories=categories)\n",
    "test = fetch_20newsgroups(subset='test', categories=categories)\n",
    "\n",
    "train_data = train.data\n",
    "test_data = test.data"
   ]
  },
  {
   "cell_type": "markdown",
   "metadata": {},
   "source": [
    "## Train with CountVectorizer"
   ]
  },
  {
   "cell_type": "code",
   "execution_count": 7,
   "metadata": {},
   "outputs": [],
   "source": [
    "model = MultinomialNB()\n",
    "X_train, X_test = model.data_transform(train_data, test_data, method='CountVectorizer')\n",
    "\n",
    "y_train = train.target\n",
    "y_test = test.target\n",
    "\n",
    "model.fit(X_train, y_train)\n",
    "yhat = model.predict(X_test)"
   ]
  },
  {
   "cell_type": "code",
   "execution_count": 8,
   "metadata": {},
   "outputs": [
    {
     "name": "stdout",
     "output_type": "stream",
     "text": [
      "Accuracy:  0.9168994413407822\n",
      "=========Average precision score=======\n",
      "Class 0 score:  0.9152047938418233\n",
      "Class 1 score:  0.9069918620723723\n",
      "Class 2 score:  0.8429395016564877\n",
      "Class 3 score:  0.7277310085946386\n",
      "=========Classification report=======\n",
      "Report:                precision    recall  f1-score   support\n",
      "\n",
      "           0       0.95      0.95      0.95       389\n",
      "           1       0.94      0.96      0.95       394\n",
      "           2       0.87      0.95      0.91       398\n",
      "           3       0.92      0.74      0.82       251\n",
      "\n",
      "    accuracy                           0.92      1432\n",
      "   macro avg       0.92      0.90      0.91      1432\n",
      "weighted avg       0.92      0.92      0.92      1432\n",
      "\n"
     ]
    }
   ],
   "source": [
    "from sklearn.preprocessing import label_binarize\n",
    "from sklearn.metrics import average_precision_score, classification_report\n",
    "\n",
    "n_classes = len(np.unique(y_test))\n",
    "\n",
    "print(\"Accuracy: \", np.sum(yhat == y_test)/len(y_test))\n",
    "\n",
    "print(\"=========Average precision score=======\")\n",
    "y_test_binarized = label_binarize(y_test, classes=[0, 1, 2, 3])\n",
    "yhat_binarized = label_binarize(yhat, classes=[0, 1, 2, 3])\n",
    "\n",
    "for i in range(n_classes):\n",
    "    class_score = average_precision_score(y_test_binarized[:, i], yhat_binarized[:, i])\n",
    "    print(f\"Class {i} score: \", class_score)\n",
    "    \n",
    "print(\"=========Classification report=======\")\n",
    "print(\"Report: \", classification_report(y_test, yhat))"
   ]
  },
  {
   "cell_type": "code",
   "execution_count": 9,
   "metadata": {},
   "outputs": [
    {
     "data": {
      "text/plain": [
       "Text(32.99999999999999, 0.5, 'predicted')"
      ]
     },
     "execution_count": 9,
     "metadata": {},
     "output_type": "execute_result"
    },
    {
     "data": {
      "image/png": "[encoded data removed]",
      "text/plain": [
       "<Figure size 432x288 with 2 Axes>"
      ]
     },
     "metadata": {
      "needs_background": "light"
     },
     "output_type": "display_data"
    }
   ],
   "source": [
    "from sklearn.metrics import confusion_matrix\n",
    "\n",
    "#use confusion matrix\n",
    "mat = confusion_matrix(y_test, yhat)\n",
    "\n",
    "import seaborn as sns\n",
    "sns.heatmap(mat.T, annot=True, fmt=\"d\",\n",
    "           xticklabels=train.target_names, yticklabels=train.target_names)\n",
    "plt.xlabel('true')\n",
    "plt.ylabel('predicted')"
   ]
  },
  {
   "cell_type": "markdown",
   "metadata": {},
   "source": [
    "## Train with TfidVectorizer"
   ]
  },
  {
   "cell_type": "code",
   "execution_count": 14,
   "metadata": {},
   "outputs": [],
   "source": [
    "model = MultinomialNB()\n",
    "\n",
    "X_train, X_test = model.data_transform(train_data, test_data, method='TfidfVectorizer')          \n",
    "y_train = train.target\n",
    "y_test = test.target\n",
    "\n",
    "model.fit(X_train, y_train)\n",
    "yhat = model.predict(X_test)"
   ]
  },
  {
   "cell_type": "code",
   "execution_count": 15,
   "metadata": {},
   "outputs": [
    {
     "name": "stdout",
     "output_type": "stream",
     "text": [
      "Accuracy:  0.8016759776536313\n",
      "=========Average precision score=======\n",
      "Class 0 score:  0.888341920518241\n",
      "Class 1 score:  0.8744630809734135\n",
      "Class 2 score:  0.6122064043881043\n",
      "Class 3 score:  0.332994836297269\n",
      "=========Classification report=======\n",
      "Report:                precision    recall  f1-score   support\n",
      "\n",
      "           0       0.97      0.88      0.92       389\n",
      "           1       0.92      0.92      0.92       394\n",
      "           2       0.62      0.98      0.76       398\n",
      "           3       1.00      0.19      0.32       251\n",
      "\n",
      "    accuracy                           0.80      1432\n",
      "   macro avg       0.88      0.75      0.73      1432\n",
      "weighted avg       0.86      0.80      0.77      1432\n",
      "\n"
     ]
    }
   ],
   "source": [
    "n_classes = len(np.unique(y_test))\n",
    "\n",
    "print(\"Accuracy: \", np.sum(yhat == y_test)/len(y_test))\n",
    "\n",
    "print(\"=========Average precision score=======\")\n",
    "y_test_binarized = label_binarize(y_test, classes=[0, 1, 2, 3])\n",
    "yhat_binarized = label_binarize(yhat, classes=[0, 1, 2, 3])\n",
    "\n",
    "for i in range(n_classes):\n",
    "    class_score = average_precision_score(y_test_binarized[:, i], yhat_binarized[:, i])\n",
    "    print(f\"Class {i} score: \", class_score)\n",
    "    \n",
    "print(\"=========Classification report=======\")\n",
    "print(\"Report: \", classification_report(y_test, yhat))"
   ]
  },
  {
   "cell_type": "code",
   "execution_count": 16,
   "metadata": {},
   "outputs": [
    {
     "data": {
      "text/plain": [
       "Text(32.99999999999999, 0.5, 'predicted')"
      ]
     },
     "execution_count": 16,
     "metadata": {},
     "output_type": "execute_result"
    },
    {
     "data": {
      "image/png": "[encoded data removed]",
      "text/plain": [
       "<Figure size 432x288 with 2 Axes>"
      ]
     },
     "metadata": {
      "needs_background": "light"
     },
     "output_type": "display_data"
    }
   ],
   "source": [
    "#use confusion matrix\n",
    "mat = confusion_matrix(y_test, yhat)\n",
    "\n",
    "sns.heatmap(mat.T, annot=True, fmt=\"d\",\n",
    "           xticklabels=train.target_names, yticklabels=train.target_names)\n",
    "plt.xlabel('true')\n",
    "plt.ylabel('predicted')"
   ]
  },
  {
   "cell_type": "code",
   "execution_count": null,
   "metadata": {},
   "outputs": [],
   "source": []
  }
 ],
 "metadata": {
  "kernelspec": {
   "display_name": "pythonDSAI",
   "language": "python",
   "name": "pythondsai"
  },
  "language_info": {
   "codemirror_mode": {
    "name": "ipython",
    "version": 3
   },
   "file_extension": ".py",
   "mimetype": "text/x-python",
   "name": "python",
   "nbconvert_exporter": "python",
   "pygments_lexer": "ipython3",
   "version": "3.8.3"
  }
 },
 "nbformat": 4,
 "nbformat_minor": 4
}
