{
 "cells": [
  {
   "cell_type": "markdown",
   "metadata": {},
   "source": [
    "## === Task ==="
   ]
  },
  {
   "cell_type": "markdown",
   "metadata": {},
   "source": [
    "1. With the iris data given in class, implement train_test_split from scratch.\n",
    "\n",
    "2. Put everything into a class called LogisticRegression, this class should allow you choose any of the training methods you'd like including \"batch\", \"minibatch\" and \"sto\". However, if the input method is not one of the three, it should \"raise ValueError\".\n",
    "\n",
    "3. Calculate time taken to fit your models using different training methods.\n",
    "\n",
    "4. Perform a classification on the dataset using all 3 methods and also show what happens if your defined training method is not either \"batch\", \"minibatch\" or \"sto\". Make sure to plot the training losses.\n",
    "\n",
    "5. Simply, use classification_report from sklearn.metrics to evaluate your models.\n",
    "\n",
    "6. Discuss your results ie. training losses of the three methods and time taken to fit models."
   ]
  },
  {
   "cell_type": "code",
   "execution_count": 1,
   "metadata": {},
   "outputs": [],
   "source": [
    "from sklearn import datasets\n",
    "from sklearn.preprocessing import StandardScaler\n",
    "from sklearn.model_selection import train_test_split\n",
    "import numpy as np\n",
    "import matplotlib.pyplot as plt\n",
    "import time\n",
    "from sklearn.metrics import classification_report\n",
    "\n",
    "\n",
    "#Step 1: Prepare data\n",
    "# import some data to play with\n",
    "iris = datasets.load_iris()\n",
    "X = iris.data[:, 2:]  # we only take the first two features.\n",
    "y = iris.target  #now our y is three classes thus require multinomial\n",
    "\n",
    "# feature scaling helps improve reach convergence faster\n",
    "scaler = StandardScaler()\n",
    "X = scaler.fit_transform(X)\n",
    "\n",
    "# data split\n",
    "X_train, X_test, y_train, y_test = train_test_split(X, y, test_size=0.3)\n",
    "\n",
    "# add intercept to our X\n",
    "intercept = np.ones((X_train.shape[0], 1))\n",
    "X_train   = np.concatenate((intercept, X_train), axis=1)  #add intercept\n",
    "intercept = np.ones((X_test.shape[0], 1))\n",
    "X_test    = np.concatenate((intercept, X_test), axis=1)  #add intercept\n",
    "\n",
    "# make sure our y is in the shape of (m, k)\n",
    "# we will convert our output vector in \n",
    "# matrix where no. of columns is equal to the no. of classes. \n",
    "# The values in the matrix will be 0 or 1. For instance the rows \n",
    "# where we have output 2 the column 2 will contain 1 and the rest are all 0.\n",
    "# in simple words, y will be of shape (m, k)\n",
    "k = len(set(y))  # no. of class  (can also use np.unique)\n",
    "m = X_train.shape[0]  # no. of samples\n",
    "n = X_train.shape[1]  # no. of features\n",
    "Y_train_encoded = np.zeros((m, k))\n",
    "for each_class in range(k):\n",
    "    cond = y_train==each_class\n",
    "    Y_train_encoded[np.where(cond), each_class] = 1"
   ]
  },
  {
   "cell_type": "code",
   "execution_count": 2,
   "metadata": {},
   "outputs": [
    {
     "data": {
      "image/png": "[encoded data removed]",
      "text/plain": [
       "<Figure size 432x432 with 1 Axes>"
      ]
     },
     "metadata": {
      "needs_background": "light"
     },
     "output_type": "display_data"
    }
   ],
   "source": [
    "# Step 1.1 (optional): Visualize our data\n",
    "\n",
    "# your code here\n",
    "plt.figure(figsize=(6,6))\n",
    "plt.scatter(X[:, 0], X[:, 1], label='class 0', c=y)\n",
    "plt.show()"
   ]
  },
  {
   "cell_type": "code",
   "execution_count": 9,
   "metadata": {},
   "outputs": [
    {
     "name": "stdout",
     "output_type": "stream",
     "text": [
      "3\n",
      "(105, 3)\n",
      "(150, 2)\n"
     ]
    }
   ],
   "source": [
    "#check shape\n",
    "print(k)\n",
    "print(Y_train_encoded.shape)     #<---should be (m,k)\n",
    "print(X.shape)                   #<---should be (m,n)"
   ]
  },
  {
   "cell_type": "code",
   "execution_count": 24,
   "metadata": {},
   "outputs": [],
   "source": [
    "# Step 2: Fit your data\n",
    "\n",
    "class LogisticRegression:\n",
    "    \n",
    "    def __init__(self, k, n, method, alpha=0.0001, max_iter=10000):    #<-----Becareful non-default argument should not follow the default argument. i.e.(a = 'b',c)\n",
    "        self.k = k\n",
    "        self.n = n\n",
    "        self.alpha = alpha\n",
    "        self.max_iter = max_iter\n",
    "        self.method = method\n",
    "        \n",
    "    def fit(self, X, Y):\n",
    "        '''\n",
    "        Inputs: \n",
    "            X shape: (m, n)\n",
    "            theta shape: (n, k)\n",
    "        '''\n",
    "        self.theta = np.random.rand(self.n, self.k)\n",
    "        self.losses = []\n",
    "        \n",
    "        ##################### selected the method ########################\n",
    "        #<------------------------\"mini-batch\"\n",
    "        #<------------------------selected some data\n",
    "        if self.method == \"mini-batch\":\n",
    "            start_time = time.time()     #<--------time!!!!!\n",
    "            batch_size = int(0.1 * X.shape[0])\n",
    "            for i in range(self.max_iter):\n",
    "                ix = np.random.randint(0, X.shape[0])     #<----with replacement\n",
    "                batch_X = X[ix:ix+batch_size]\n",
    "                batch_Y = Y[ix:ix+batch_size]\n",
    "                loss, grad = self.gradient(batch_X, batch_Y)     #<----some data\n",
    "                self.losses.append(loss)\n",
    "                self.theta = self.theta - self.alpha * grad      #update the theta\n",
    "                if i % 500 == 0:\n",
    "                    print(f\"Loss at iteration {i}\", loss)\n",
    "            print(\"Time taken: \", time.time()-start_time)\n",
    "        \n",
    "        #<------------------------\"batch\"\n",
    "        #<------------------------selected all data\n",
    "        elif self.method == \"batch\":\n",
    "            start_time = time.time()     #<--------time!!!!!\n",
    "            for i in range(self.max_iter):\n",
    "                loss, grad = self.gradient(X, Y)                 #<----all data\n",
    "                self.losses.append(loss)\n",
    "                self.theta = self.theta - self.alpha * grad      #update the theta\n",
    "                if i % 500 == 0:\n",
    "                    print(f\"Loss at iteration {i}\", loss)\n",
    "            print(\"Time taken: \", time.time()-start_time)\n",
    "        \n",
    "        #<------------------------\"sto\"\n",
    "        #<------------------------selected one data\n",
    "        elif self.method == \"sto\":\n",
    "            start_time = time.time()     #<--------time!!!!!\n",
    "            list_of_used_ix = []\n",
    "            for i in range(self.max_iter):\n",
    "                ix = np.random.randint(X.shape[0])\n",
    "                while i in list_of_used_ix:\n",
    "                    ix = np.random.randint(X.shape[0])\n",
    "                X_train = X[ix, :].reshape(1, -1)\n",
    "                Y_train = Y[ix]\n",
    "                loss, grad =  self.gradient(X_train, Y_train)\n",
    "                self.losses.append(loss)\n",
    "                self.theta = self.theta - self.alpha * grad      #update the theta              \n",
    "                list_of_used_ix.append(i)\n",
    "                \n",
    "                if len(list_of_used_ix) == X.shape[0]:\n",
    "                    list_of_used_ix = []\n",
    "                \n",
    "                if i % 500 == 0:\n",
    "                    print(f\"Cost at iteration {i}\", loss)\n",
    "            print(\"Time taken: \", time.time()-start_time)  \n",
    "                \n",
    "        #<------------------------ValueError        \n",
    "        else:\n",
    "            raise ValueError('Please select one of the following method: \"batch\", \"mini-batch\" or \"sto\".')\n",
    "        \n",
    "        \n",
    "    def gradient(self, X, Y):\n",
    "        m = X.shape[0]\n",
    "        h = self.h_theta(X, self.theta)\n",
    "        error = h - Y\n",
    "        # putting negative sign for negative log likelihood\n",
    "        loss = - np.sum(Y * np.log(h)) / m\n",
    "        grad = self.softmax_grad(X, error)\n",
    "        return loss, grad\n",
    "\n",
    "    def softmax(self, theta_t_x):\n",
    "        return np.exp(theta_t_x) / np.sum(np.exp(theta_t_x), axis=1, keepdims=True)\n",
    "\n",
    "    def softmax_grad(self, X, error):\n",
    "        return  X.T @ error\n",
    "        \n",
    "    def h_theta(self, X, theta):\n",
    "        '''\n",
    "        Input:\n",
    "            X shape: (m, n)\n",
    "            theta shape: (n, k)\n",
    "        Returns:\n",
    "            yhat shape: (m, k)\n",
    "        '''\n",
    "        return self.softmax(X @ theta)\n",
    "    \n",
    "    def predict(self, X_test):     #the output(predict) from the data of X_test\n",
    "        yhat = np.argmax(self.h_theta(X_test, self.theta), axis=1)      \n",
    "        return yhat\n",
    "        \n",
    "    def plot(self):\n",
    "        plt.plot(np.arange(len(self.losses)), self.losses, label = 'Train Losses')  \n",
    "        plt.title(\"Losses\")\n",
    "        plt.xlabel(\"X(epoch)\")\n",
    "        plt.ylabel(\"Y(losses)\")\n",
    "        plt.legend()"
   ]
  },
  {
   "cell_type": "code",
   "execution_count": 25,
   "metadata": {},
   "outputs": [
    {
     "name": "stdout",
     "output_type": "stream",
     "text": [
      "Loss at iteration 0 1.0411228187119357\n",
      "Loss at iteration 500 1.076349147047622\n",
      "Loss at iteration 1000 1.0072754114195095\n",
      "Loss at iteration 1500 0.6725262266205112\n",
      "Loss at iteration 2000 0.7790554663646498\n",
      "Loss at iteration 2500 0.5338066930078786\n",
      "Loss at iteration 3000 0.5258861676833615\n",
      "Loss at iteration 3500 0.8334815173369081\n",
      "Loss at iteration 4000 0.36766604591101626\n",
      "Loss at iteration 4500 0.43687858674710994\n",
      "Loss at iteration 5000 0.551357121108502\n",
      "Loss at iteration 5500 0.681940966877831\n",
      "Loss at iteration 6000 0.496595380156735\n",
      "Loss at iteration 6500 0.5784575297412192\n",
      "Loss at iteration 7000 0.4006824651879639\n",
      "Loss at iteration 7500 0.5161484833347456\n",
      "Loss at iteration 8000 0.5869071494936461\n",
      "Loss at iteration 8500 0.43110194436757\n",
      "Loss at iteration 9000 0.4196767242610826\n",
      "Loss at iteration 9500 0.2585475202238467\n",
      "Time taken:  0.5770673751831055\n",
      "---------------Classification report------------------\n",
      "Report:                precision    recall  f1-score   support\n",
      "\n",
      "           0       1.00      1.00      1.00        12\n",
      "           1       0.91      0.91      0.91        11\n",
      "           2       0.95      0.95      0.95        22\n",
      "\n",
      "    accuracy                           0.96        45\n",
      "   macro avg       0.95      0.95      0.95        45\n",
      "weighted avg       0.96      0.96      0.96        45\n",
      "\n"
     ]
    },
    {
     "data": {
      "image/png": "[encoded data removed]",
      "text/plain": [
       "<Figure size 432x288 with 1 Axes>"
      ]
     },
     "metadata": {
      "needs_background": "light"
     },
     "output_type": "display_data"
    }
   ],
   "source": [
    "#<------------------------\"mini-batch\"\n",
    "#<------------------------selected some data\n",
    "model = LogisticRegression(k, X_train.shape[1], \"mini-batch\")\n",
    "model.fit(X_train, Y_train_encoded)\n",
    "yhat = model.predict(X_test)\n",
    "model.plot()\n",
    "print(\"---------------Classification report------------------\")\n",
    "print(\"Report: \", classification_report(y_test, yhat))"
   ]
  },
  {
   "cell_type": "code",
   "execution_count": 26,
   "metadata": {},
   "outputs": [
    {
     "name": "stdout",
     "output_type": "stream",
     "text": [
      "Loss at iteration 0 1.096703348002143\n",
      "Loss at iteration 500 0.4643023877541037\n",
      "Loss at iteration 1000 0.35516586232930364\n",
      "Loss at iteration 1500 0.2947145737386764\n",
      "Loss at iteration 2000 0.2552998750864511\n",
      "Loss at iteration 2500 0.22741811462243863\n",
      "Loss at iteration 3000 0.2066163262568443\n",
      "Loss at iteration 3500 0.1904846010258076\n",
      "Loss at iteration 4000 0.17759711516156182\n",
      "Loss at iteration 4500 0.16705522428434144\n",
      "Loss at iteration 5000 0.1582644270637013\n",
      "Loss at iteration 5500 0.1508158376429706\n",
      "Loss at iteration 6000 0.1444190536652872\n",
      "Loss at iteration 6500 0.13886216233169063\n",
      "Loss at iteration 7000 0.13398690118502632\n",
      "Loss at iteration 7500 0.12967267928375426\n",
      "Loss at iteration 8000 0.12582598299457456\n",
      "Loss at iteration 8500 0.12237316467487647\n",
      "Loss at iteration 9000 0.11925541910236344\n",
      "Loss at iteration 9500 0.1164252113094833\n",
      "Time taken:  0.6083838939666748\n",
      "---------------Classification report------------------\n",
      "Report:                precision    recall  f1-score   support\n",
      "\n",
      "           0       1.00      1.00      1.00        12\n",
      "           1       0.83      0.91      0.87        11\n",
      "           2       0.95      0.91      0.93        22\n",
      "\n",
      "    accuracy                           0.93        45\n",
      "   macro avg       0.93      0.94      0.93        45\n",
      "weighted avg       0.94      0.93      0.93        45\n",
      "\n"
     ]
    },
    {
     "data": {
      "image/png": "[encoded data removed]",
      "text/plain": [
       "<Figure size 432x288 with 1 Axes>"
      ]
     },
     "metadata": {
      "needs_background": "light"
     },
     "output_type": "display_data"
    }
   ],
   "source": [
    "#<------------------------\"batch\"\n",
    "#<------------------------selected all data\n",
    "model = LogisticRegression(k, X_train.shape[1], \"batch\")\n",
    "model.fit(X_train, Y_train_encoded)\n",
    "yhat = model.predict(X_test)\n",
    "model.plot()\n",
    "print(\"---------------Classification report------------------\")\n",
    "print(\"Report: \", classification_report(y_test, yhat))"
   ]
  },
  {
   "cell_type": "code",
   "execution_count": 27,
   "metadata": {},
   "outputs": [
    {
     "name": "stdout",
     "output_type": "stream",
     "text": [
      "Cost at iteration 0 0.45294407336543824\n",
      "Cost at iteration 500 1.0711938013528939\n",
      "Cost at iteration 1000 1.2732825812473911\n",
      "Cost at iteration 1500 0.3872475004466772\n",
      "Cost at iteration 2000 1.0498257871243168\n",
      "Cost at iteration 2500 1.0132183653330449\n",
      "Cost at iteration 3000 1.0747077491478576\n",
      "Cost at iteration 3500 0.38366313766547133\n",
      "Cost at iteration 4000 0.9724675432468317\n",
      "Cost at iteration 4500 0.9018133999258853\n",
      "Cost at iteration 5000 1.0340521918392043\n",
      "Cost at iteration 5500 1.0315574636660478\n",
      "Cost at iteration 6000 0.9378446995385723\n",
      "Cost at iteration 6500 0.24387101110268194\n",
      "Cost at iteration 7000 0.2762970206331161\n",
      "Cost at iteration 7500 1.020948088329379\n",
      "Cost at iteration 8000 0.2578775676626013\n",
      "Cost at iteration 8500 0.8603610672894859\n",
      "Cost at iteration 9000 0.2466417200070131\n",
      "Cost at iteration 9500 0.2793317922539585\n",
      "Time taken:  0.5887134075164795\n",
      "---------------Classification report------------------\n",
      "Report:                precision    recall  f1-score   support\n",
      "\n",
      "           0       0.86      1.00      0.92        12\n",
      "           1       0.39      0.82      0.53        11\n",
      "           2       1.00      0.36      0.53        22\n",
      "\n",
      "    accuracy                           0.64        45\n",
      "   macro avg       0.75      0.73      0.66        45\n",
      "weighted avg       0.81      0.64      0.64        45\n",
      "\n"
     ]
    },
    {
     "data": {
      "image/png": "[encoded data removed]",
      "text/plain": [
       "<Figure size 432x288 with 1 Axes>"
      ]
     },
     "metadata": {
      "needs_background": "light"
     },
     "output_type": "display_data"
    }
   ],
   "source": [
    "#<------------------------\"sto\"\n",
    "#<------------------------selected one data\n",
    "model = LogisticRegression(k, X_train.shape[1], \"sto\")\n",
    "model.fit(X_train, Y_train_encoded)\n",
    "yhat = model.predict(X_test)\n",
    "model.plot()\n",
    "print(\"---------------Classification report------------------\")\n",
    "print(\"Report: \", classification_report(y_test, yhat))"
   ]
  },
  {
   "cell_type": "code",
   "execution_count": 28,
   "metadata": {},
   "outputs": [
    {
     "ename": "ValueError",
     "evalue": "Please select one of the following method: \"batch\", \"mini-batch\" or \"sto\".",
     "output_type": "error",
     "traceback": [
      "\u001b[0;31m---------------------------------------------------------------------------\u001b[0m",
      "\u001b[0;31mValueError\u001b[0m                                Traceback (most recent call last)",
      "\u001b[0;32m<ipython-input-28-7b41a26979a1>\u001b[0m in \u001b[0;36m<module>\u001b[0;34m\u001b[0m\n\u001b[1;32m      1\u001b[0m \u001b[0;31m#<------------------------ValueError\u001b[0m\u001b[0;34m\u001b[0m\u001b[0;34m\u001b[0m\u001b[0;34m\u001b[0m\u001b[0m\n\u001b[1;32m      2\u001b[0m \u001b[0mmodel\u001b[0m \u001b[0;34m=\u001b[0m \u001b[0mLogisticRegression\u001b[0m\u001b[0;34m(\u001b[0m\u001b[0mk\u001b[0m\u001b[0;34m,\u001b[0m \u001b[0mX_train\u001b[0m\u001b[0;34m.\u001b[0m\u001b[0mshape\u001b[0m\u001b[0;34m[\u001b[0m\u001b[0;36m1\u001b[0m\u001b[0;34m]\u001b[0m\u001b[0;34m,\u001b[0m \u001b[0;34m\"OMG\"\u001b[0m\u001b[0;34m)\u001b[0m\u001b[0;34m\u001b[0m\u001b[0;34m\u001b[0m\u001b[0m\n\u001b[0;32m----> 3\u001b[0;31m \u001b[0mmodel\u001b[0m\u001b[0;34m.\u001b[0m\u001b[0mfit\u001b[0m\u001b[0;34m(\u001b[0m\u001b[0mX_train\u001b[0m\u001b[0;34m,\u001b[0m \u001b[0mY_train_encoded\u001b[0m\u001b[0;34m)\u001b[0m\u001b[0;34m\u001b[0m\u001b[0;34m\u001b[0m\u001b[0m\n\u001b[0m\u001b[1;32m      4\u001b[0m \u001b[0myhat\u001b[0m \u001b[0;34m=\u001b[0m \u001b[0mmodel\u001b[0m\u001b[0;34m.\u001b[0m\u001b[0mpredict\u001b[0m\u001b[0;34m(\u001b[0m\u001b[0mX_test\u001b[0m\u001b[0;34m)\u001b[0m\u001b[0;34m\u001b[0m\u001b[0;34m\u001b[0m\u001b[0m\n\u001b[1;32m      5\u001b[0m \u001b[0mmodel\u001b[0m\u001b[0;34m.\u001b[0m\u001b[0mplot\u001b[0m\u001b[0;34m(\u001b[0m\u001b[0;34m)\u001b[0m\u001b[0;34m\u001b[0m\u001b[0;34m\u001b[0m\u001b[0m\n",
      "\u001b[0;32m<ipython-input-24-8bbe3b667458>\u001b[0m in \u001b[0;36mfit\u001b[0;34m(self, X, Y)\u001b[0m\n\u001b[1;32m     73\u001b[0m         \u001b[0;31m#<------------------------ValueError\u001b[0m\u001b[0;34m\u001b[0m\u001b[0;34m\u001b[0m\u001b[0;34m\u001b[0m\u001b[0m\n\u001b[1;32m     74\u001b[0m         \u001b[0;32melse\u001b[0m\u001b[0;34m:\u001b[0m\u001b[0;34m\u001b[0m\u001b[0;34m\u001b[0m\u001b[0m\n\u001b[0;32m---> 75\u001b[0;31m             \u001b[0;32mraise\u001b[0m \u001b[0mValueError\u001b[0m\u001b[0;34m(\u001b[0m\u001b[0;34m'Please select one of the following method: \"batch\", \"mini-batch\" or \"sto\".'\u001b[0m\u001b[0;34m)\u001b[0m\u001b[0;34m\u001b[0m\u001b[0;34m\u001b[0m\u001b[0m\n\u001b[0m\u001b[1;32m     76\u001b[0m \u001b[0;34m\u001b[0m\u001b[0m\n\u001b[1;32m     77\u001b[0m \u001b[0;34m\u001b[0m\u001b[0m\n",
      "\u001b[0;31mValueError\u001b[0m: Please select one of the following method: \"batch\", \"mini-batch\" or \"sto\"."
     ]
    }
   ],
   "source": [
    "#<------------------------ValueError    \n",
    "model = LogisticRegression(k, X_train.shape[1], \"OMG\")\n",
    "model.fit(X_train, Y_train_encoded)\n",
    "yhat = model.predict(X_test)\n",
    "model.plot()\n",
    "print(\"---------------Classification report------------------\")\n",
    "print(\"Report: \", classification_report(y_test, yhat))"
   ]
  },
  {
   "cell_type": "code",
   "execution_count": null,
   "metadata": {},
   "outputs": [],
   "source": []
  }
 ],
 "metadata": {
  "kernelspec": {
   "display_name": "Python 3",
   "language": "python",
   "name": "python3"
  },
  "language_info": {
   "codemirror_mode": {
    "name": "ipython",
    "version": 3
   },
   "file_extension": ".py",
   "mimetype": "text/x-python",
   "name": "python",
   "nbconvert_exporter": "python",
   "pygments_lexer": "ipython3",
   "version": "3.8.3"
  }
 },
 "nbformat": 4,
 "nbformat_minor": 4
}
